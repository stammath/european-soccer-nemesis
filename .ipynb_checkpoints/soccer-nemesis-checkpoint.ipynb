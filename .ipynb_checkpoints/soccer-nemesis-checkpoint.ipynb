{
 "cells": [
  {
   "cell_type": "code",
   "execution_count": 2,
   "metadata": {
    "ExecuteTime": {
     "end_time": "2019-01-29T17:04:28.807985",
     "start_time": "2019-01-29T17:04:27.980454"
    },
    "collapsed": true
   },
   "outputs": [],
   "source": [
    "import pandas as pd\n",
    "import matplotlib.pylab as plt\n",
    "plt.style.use('fivethirtyeight')\n",
    "%matplotlib inline"
   ]
  },
  {
   "cell_type": "markdown",
   "metadata": {},
   "source": [
    "## read the dataset"
   ]
  },
  {
   "cell_type": "code",
   "execution_count": 5,
   "metadata": {
    "ExecuteTime": {
     "end_time": "2019-01-29T17:06:48.071567",
     "start_time": "2019-01-29T17:06:48.048829"
    },
    "collapsed": false
   },
   "outputs": [],
   "source": [
    "df_results = pd.read_csv('./data/results_per_team_and_opponent.csv')\n",
    "df_aggregated = pd.read_csv('./data/aggregated_result_per_team_and_opponent.csv')"
   ]
  },
  {
   "cell_type": "markdown",
   "metadata": {
    "collapsed": true
   },
   "source": [
    "## Get the worst performing opponent for each team"
   ]
  },
  {
   "cell_type": "code",
   "execution_count": 18,
   "metadata": {
    "ExecuteTime": {
     "end_time": "2019-01-29T17:22:05.817415",
     "start_time": "2019-01-29T17:22:05.805525"
    },
    "collapsed": false
   },
   "outputs": [
    {
     "name": "stderr",
     "output_type": "stream",
     "text": [
      "//anaconda/lib/python3.5/site-packages/ipykernel/__main__.py:3: FutureWarning: 'argmin' is deprecated, use 'idxmin' instead. The behavior of 'argmin'\n",
      "will be corrected to return the positional minimum in the future.\n",
      "Use 'series.values.argmin' to get the position of the minimum now.\n",
      "  app.launch_new_instance()\n"
     ]
    },
    {
     "data": {
      "text/plain": [
       "'FC Barcelona'"
      ]
     },
     "execution_count": 18,
     "metadata": {},
     "output_type": "execute_result"
    }
   ],
   "source": [
    "team = 'Valencia CF'\n",
    "temp = df_aggregated[ (df_aggregated['total_num_games']>300) & (df_aggregated['team']==team) & (df_aggregated['num_games']>10)].sort_values(by='result_metric')\n",
    "temp.loc[temp['result_metric'].argmin(),'opponent']"
   ]
  },
  {
   "cell_type": "code",
   "execution_count": 20,
   "metadata": {
    "ExecuteTime": {
     "end_time": "2019-01-29T18:06:15.606025",
     "start_time": "2019-01-29T18:06:15.392183"
    },
    "collapsed": false
   },
   "outputs": [
    {
     "name": "stderr",
     "output_type": "stream",
     "text": [
      "//anaconda/lib/python3.5/site-packages/ipykernel/__main__.py:5: FutureWarning: 'argmin' is deprecated, use 'idxmin' instead. The behavior of 'argmin'\n",
      "will be corrected to return the positional minimum in the future.\n",
      "Use 'series.values.argmin' to get the position of the minimum now.\n"
     ]
    }
   ],
   "source": [
    "df_nemesis = pd.DataFrame(columns = ['team','nemesis', 'worst_result'])\n",
    "\n",
    "for team in df_aggregated[df_aggregated['total_num_games']>300]['team'].unique():\n",
    "    temp = df_aggregated[ (df_aggregated['total_num_games']>300) & (df_aggregated['team']==team) & (df_aggregated['num_games']>10)].sort_values(by='result_metric')\n",
    "    nemesis = temp.loc[temp['result_metric'].argmin(), 'opponent']\n",
    "    df_nemesis.loc[len(df_nemesis)] = [team, nemesis, temp['result_metric'].min() ] "
   ]
  },
  {
   "cell_type": "code",
   "execution_count": 23,
   "metadata": {
    "ExecuteTime": {
     "end_time": "2019-01-29T18:06:58.650811",
     "start_time": "2019-01-29T18:06:58.644150"
    },
    "collapsed": false
   },
   "outputs": [
    {
     "data": {
      "text/plain": [
       "nemesis\n",
       "AS Monaco                 1\n",
       "Arsenal                   2\n",
       "Chelsea                   3\n",
       "FC Barcelona              6\n",
       "Girondins de Bordeaux     1\n",
       "Juventus                  6\n",
       "Liverpool                 2\n",
       "Manchester United         3\n",
       "Milan                     1\n",
       "Napoli                    1\n",
       "Olympique de Marseille    1\n",
       "Paris Saint-Germain       7\n",
       "Real Madrid CF            2\n",
       "Real Sociedad             1\n",
       "Roma                      1\n",
       "dtype: int64"
      ]
     },
     "execution_count": 23,
     "metadata": {},
     "output_type": "execute_result"
    }
   ],
   "source": [
    "df_nemesis.groupby('nemesis').size()"
   ]
  }
 ],
 "metadata": {
  "anaconda-cloud": {},
  "kernelspec": {
   "display_name": "Python [default]",
   "language": "python",
   "name": "python3"
  },
  "language_info": {
   "codemirror_mode": {
    "name": "ipython",
    "version": 3
   },
   "file_extension": ".py",
   "mimetype": "text/x-python",
   "name": "python",
   "nbconvert_exporter": "python",
   "pygments_lexer": "ipython3",
   "version": "3.5.4"
  },
  "toc": {
   "colors": {
    "hover_highlight": "#DAA520",
    "running_highlight": "#FF0000",
    "selected_highlight": "#FFD700"
   },
   "moveMenuLeft": true,
   "nav_menu": {
    "height": "12px",
    "width": "252px"
   },
   "navigate_menu": true,
   "number_sections": true,
   "sideBar": true,
   "threshold": 4,
   "toc_cell": false,
   "toc_section_display": "block",
   "toc_window_display": false
  }
 },
 "nbformat": 4,
 "nbformat_minor": 2
}
